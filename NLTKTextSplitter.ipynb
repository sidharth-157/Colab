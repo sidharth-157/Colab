{
  "nbformat": 4,
  "nbformat_minor": 0,
  "metadata": {
    "colab": {
      "provenance": [],
      "authorship_tag": "ABX9TyOBV7TfKRYhkAGP7/v3PbED",
      "include_colab_link": true
    },
    "kernelspec": {
      "name": "python3",
      "display_name": "Python 3"
    },
    "language_info": {
      "name": "python"
    }
  },
  "cells": [
    {
      "cell_type": "markdown",
      "metadata": {
        "id": "view-in-github",
        "colab_type": "text"
      },
      "source": [
        "<a href=\"https://colab.research.google.com/github/sidharth-157/Colab/blob/main/NLTKTextSplitter.ipynb\" target=\"_parent\"><img src=\"https://colab.research.google.com/assets/colab-badge.svg\" alt=\"Open In Colab\"/></a>"
      ]
    },
    {
      "cell_type": "code",
      "execution_count": 1,
      "metadata": {
        "colab": {
          "base_uri": "https://localhost:8080/"
        },
        "id": "pFDzCUHUoyEA",
        "outputId": "e707de33-1d12-4e6e-b294-aa329c808762"
      },
      "outputs": [
        {
          "output_type": "stream",
          "name": "stdout",
          "text": [
            "Requirement already satisfied: nltk in /usr/local/lib/python3.10/dist-packages (3.8.1)\n",
            "Requirement already satisfied: click in /usr/local/lib/python3.10/dist-packages (from nltk) (8.1.3)\n",
            "Requirement already satisfied: joblib in /usr/local/lib/python3.10/dist-packages (from nltk) (1.2.0)\n",
            "Requirement already satisfied: regex>=2021.8.3 in /usr/local/lib/python3.10/dist-packages (from nltk) (2022.10.31)\n",
            "Requirement already satisfied: tqdm in /usr/local/lib/python3.10/dist-packages (from nltk) (4.65.0)\n"
          ]
        }
      ],
      "source": [
        "!pip install nltk"
      ]
    },
    {
      "cell_type": "code",
      "source": [
        "!pip install langchain"
      ],
      "metadata": {
        "id": "nvSOxFn4o9Kw"
      },
      "execution_count": null,
      "outputs": []
    },
    {
      "cell_type": "code",
      "source": [
        "import nltk\n",
        "nltk.download('punkt')\n"
      ],
      "metadata": {
        "colab": {
          "base_uri": "https://localhost:8080/"
        },
        "id": "8yEKCHlclsyb",
        "outputId": "345611a2-eda7-48ac-d2ba-74dcd2407da3"
      },
      "execution_count": 8,
      "outputs": [
        {
          "output_type": "stream",
          "name": "stderr",
          "text": [
            "[nltk_data] Downloading package punkt to /root/nltk_data...\n",
            "[nltk_data]   Unzipping tokenizers/punkt.zip.\n"
          ]
        },
        {
          "output_type": "execute_result",
          "data": {
            "text/plain": [
              "True"
            ]
          },
          "metadata": {},
          "execution_count": 8
        }
      ]
    },
    {
      "cell_type": "code",
      "source": [
        "from langchain.text_splitter import NLTKTextSplitter\n",
        "\n"
      ],
      "metadata": {
        "id": "G975a9RQo6RL"
      },
      "execution_count": 28,
      "outputs": []
    },
    {
      "cell_type": "code",
      "source": [
        "text_splitter = NLTKTextSplitter(chunk_size=200)"
      ],
      "metadata": {
        "id": "B3euPBA3rB0p"
      },
      "execution_count": 54,
      "outputs": []
    },
    {
      "cell_type": "code",
      "source": [
        "!pwd"
      ],
      "metadata": {
        "colab": {
          "base_uri": "https://localhost:8080/"
        },
        "id": "bAPbolFHtXaK",
        "outputId": "d79b1f89-e614-4716-af1d-727ccc2f480e"
      },
      "execution_count": 46,
      "outputs": [
        {
          "output_type": "stream",
          "name": "stdout",
          "text": [
            "/content\n"
          ]
        }
      ]
    },
    {
      "cell_type": "code",
      "source": [
        "#state_of_the_union = \"So far, we have explored two different families of generative models that have both involved latent variables—variational autoencoders (VAEs) and generative adversarial networks (GANs). In both cases, a new variable is introduced with a distribution that is easy to sample from and the model learns how to decode this variable back into the original domain. We will now turn our attention to autoregressive models—a family of models that simplify the generative modeling problem by treating it as a sequential process. Autoregressive models condition predictions on previous values in the sequence, rather than on a latent random variable. Therefore, they attempt to explicitly model the data-generating distribution rather than an approximation of it (as in the case of VAEs). In this chapter we shall explore two different autoregressive models: long short-term memory networks and PixelCNN. We will apply the LSTM to text data and the PixelCNN to image data. We will cover another highly successful autoregressive model, the Transformer, in detail in Foster, David. Generative Deep Learning (pp. 224-225). O'Reilly Media. Kindle Edition. So far, we have explored two different families of generative models that have both involved latent variables—variational autoencoders (VAEs) and generative adversarial networks (GANs). In both cases, a new variable is introduced with a distribution that is easy to sample from and the model learns how to decode this variable back into the original domain. We will now turn our attention to autoregressive models—a family of models that simplify the generative modeling problem by treating it as a sequential process. Autoregressive models condition predictions on previous values in the sequence, rather than on a latent random variable. Therefore, they attempt to explicitly model the data-generating distribution rather than an approximation of it (as in the case of VAEs). In this chapter we shall explore two different autoregressive models: long short-term memory networks and PixelCNN. We will apply the LSTM to text data and the PixelCNN to image data. We will cover another highly successful autoregressive model, the Transformer, in detail in Foster, David. Generative Deep Learning (pp. 224-225). O'Reilly Media. Kindle Edition. So far, we have explored two different families of generative models that have both involved latent variables—variational autoencoders (VAEs) and generative adversarial networks (GANs). In both cases, a new variable is introduced with a distribution that is easy to sample from and the model learns how to decode this variable back into the original domain. We will now turn our attention to autoregressive models—a family of models that simplify the generative modeling problem by treating it as a sequential process. Autoregressive models condition predictions on previous values in the sequence, rather than on a latent random variable. Therefore, they attempt to explicitly model the data-generating distribution rather than an approximation of it (as in the case of VAEs). In this chapter we shall explore two different autoregressive models: long short-term memory networks and PixelCNN. We will apply the LSTM to text data and the PixelCNN to image data. We will cover another highly successful autoregressive model, the Transformer, in detail in Foster, David. Generative Deep Learning (pp. 224-225). O'Reilly Media. Kindle Edition. So far, we have explored two different families of generative models that have both involved latent variables—variational autoencoders (VAEs) and generative adversarial networks (GANs). In both cases, a new variable is introduced with a distribution that is easy to sample from and the model learns how to decode this variable back into the original domain. We will now turn our attention to autoregressive models—a family of models that simplify the generative modeling problem by treating it as a sequential process. Autoregressive models condition predictions on previous values in the sequence, rather than on a latent random variable. Therefore, they attempt to explicitly model the data-generating distribution rather than an approximation of it (as in the case of VAEs). In this chapter we shall explore two different autoregressive models: long short-term memory networks and PixelCNN. We will apply the LSTM to text data and the PixelCNN to image data. We will cover another highly successful autoregressive model, the Transformer, in detail in Foster, David. Generative Deep Learning (pp. 224-225). O'Reilly Media. Kindle Edition. \"\n",
        "\n",
        "# This is a long document we can split up.\n",
        "with open(\"/content/infywatchtower.txt\") as f:\n",
        "    state_of_the_union = f.read()"
      ],
      "metadata": {
        "id": "507tyDgQlFFZ"
      },
      "execution_count": 47,
      "outputs": []
    },
    {
      "cell_type": "code",
      "source": [
        "texts = text_splitter.split_text(state_of_the_union)\n",
        "print(texts[0])"
      ],
      "metadata": {
        "colab": {
          "base_uri": "https://localhost:8080/"
        },
        "id": "G5rT0-V8peBP",
        "outputId": "b8bcb6a1-0266-49ad-d82a-ed483f08094e"
      },
      "execution_count": 55,
      "outputs": [
        {
          "output_type": "stream",
          "name": "stderr",
          "text": [
            "WARNING:langchain.text_splitter:Created a chunk of size 214, which is longer than the specified 200\n",
            "WARNING:langchain.text_splitter:Created a chunk of size 203, which is longer than the specified 200\n",
            "WARNING:langchain.text_splitter:Created a chunk of size 227, which is longer than the specified 200\n"
          ]
        },
        {
          "output_type": "stream",
          "name": "stdout",
          "text": [
            "Aviation is an asset-heavy business with several moving parts.\n",
            "\n",
            "The landscape is characterized by the movement of people, aircraft, freight, and complementary parts that enable locomotion.\n"
          ]
        }
      ]
    },
    {
      "cell_type": "code",
      "source": [
        "len(texts[1].split())"
      ],
      "metadata": {
        "colab": {
          "base_uri": "https://localhost:8080/"
        },
        "id": "1m8AAceYprOk",
        "outputId": "ad2a6e64-21ec-4df5-a667-bf0b250dca1a"
      },
      "execution_count": 50,
      "outputs": [
        {
          "output_type": "execute_result",
          "data": {
            "text/plain": [
              "37"
            ]
          },
          "metadata": {},
          "execution_count": 50
        }
      ]
    },
    {
      "cell_type": "code",
      "source": [
        "len(texts)"
      ],
      "metadata": {
        "colab": {
          "base_uri": "https://localhost:8080/"
        },
        "id": "eKtz92CJqXiC",
        "outputId": "cf21d08a-5b2c-42b4-c61e-5e3f3f630a87"
      },
      "execution_count": 56,
      "outputs": [
        {
          "output_type": "execute_result",
          "data": {
            "text/plain": [
              "56"
            ]
          },
          "metadata": {},
          "execution_count": 56
        }
      ]
    },
    {
      "cell_type": "code",
      "source": [
        "for i in range(len(texts)):\n",
        "  print(str(i)+\" \"+str(len(texts[i].split()))+\" \"+ texts[i])\n",
        "  print(\"================================================\")"
      ],
      "metadata": {
        "colab": {
          "base_uri": "https://localhost:8080/"
        },
        "id": "p3RCb2nQqMNK",
        "outputId": "31f85c2d-e41a-4010-eb22-7660d64da259"
      },
      "execution_count": 57,
      "outputs": [
        {
          "output_type": "stream",
          "name": "stdout",
          "text": [
            "0 26 Aviation is an asset-heavy business with several moving parts.\n",
            "\n",
            "The landscape is characterized by the movement of people, aircraft, freight, and complementary parts that enable locomotion.\n",
            "================================================\n",
            "1 27 The landscape is characterized by the movement of people, aircraft, freight, and complementary parts that enable locomotion.\n",
            "\n",
            "The aviation business underpins the growth and progress of economies.\n",
            "================================================\n",
            "2 28 The aviation business underpins the growth and progress of economies.\n",
            "\n",
            "In 2019, the finest year in aviation history, 5.8 billion travelers took the skies in 39 million flights.\n",
            "================================================\n",
            "3 27 In 2019, the finest year in aviation history, 5.8 billion travelers took the skies in 39 million flights.\n",
            "\n",
            "The dynamics of the aviation business involve inherent risks.\n",
            "================================================\n",
            "4 24 The dynamics of the aviation business involve inherent risks.\n",
            "\n",
            "People and airport facilities need to be safeguarded from accidents and threats from non-state actors.\n",
            "================================================\n",
            "5 27 People and airport facilities need to be safeguarded from accidents and threats from non-state actors.\n",
            "\n",
            "It demands 24x7x365 surveillance, which needs equal parts automation and preventive action.\n",
            "================================================\n",
            "6 30 In this white paper, our experts present Infosys Watch Tower, an AI platform that serves as the eyes and ears for continuous monitoring, undertakes threat assessment, and mitigates operational risks.\n",
            "================================================\n",
            "7 20 Infosys Watch Tower enables real-time monitoring of situations, which is an important aspect of operations, specifically in the aviation industry.\n",
            "================================================\n",
            "8 15 The need for monitoring increases exponentially at airports where crowd management and security are amplified.\n",
            "================================================\n",
            "9 13 Infosys Watch Tower mitigates security threats and tracks cargo, thereby ensuring smooth operations.\n",
            "================================================\n",
            "10 31 The platform onboards different sensors such as camera, drone, and light detection and ranging (LiDAR) to detect and gather information about incidents, while streamlining business flows at airports and on runways.\n",
            "================================================\n",
            "11 20 Infosys Watch Tower uses drones to inspect aircraft and sonar for Non-destructive Testing (NDT) for\n",
            "identifying and detecting material damage.\n",
            "================================================\n",
            "12 20 It is scalable to support thousands of sensors along with real-time processed feeds based on sensor configuration and monitoring plans.\n",
            "================================================\n",
            "13 20 Infosys Watch Tower leverages cutting-edge 5G technology for aviation enterprises to create low-code / no-code AI workflows for installed sensors.\n",
            "================================================\n",
            "14 12 These workflows are easily configurable and can be deployed across various edges.\n",
            "================================================\n",
            "15 30 The platform can be extended to multiple AI domains such as computer vision, and across multiple sub-domains such as retail, facility management, and security, which are ancillary businesses in aviation.\n",
            "================================================\n",
            "16 17 The platform offers a unified view of inferences, reports, monitoring plans and alerts via reports and analytics.\n",
            "================================================\n",
            "17 11 It provides management with 360-degree visibility into different incidents and events.\n",
            "================================================\n",
            "18 30 Apart from serving as a smart assistant for security personnel and a guide to the operations manager, the data collected as part of 24x7 monitoring enhances overall security and maintenance.\n",
            "================================================\n",
            "19 25 Infosys Watch Tower offers several use cases across the aviation industry:\n",
            "Fire and smoke detection\n",
            "Infosys Watch Tower is equipped with algorithms to detect fires.\n",
            "================================================\n",
            "20 19 The system can detect fire and/or smoke in the airport and promptly raise an alarm to notify security personnel.\n",
            "================================================\n",
            "21 24 The sensors monitor surrounding areas while algorithms identify smoke and differentiate it with images that resemble smoke, but are actually cloud formations or dust.\n",
            "================================================\n",
            "22 11 Birds monitoring\n",
            "Bird intrusion presents a high risk of aircraft collision.\n",
            "================================================\n",
            "23 21 From 1990 to 2019, approximately 227,005 wildlife strikes were reported by civil aircraft across airports in the United States of America.\n",
            "================================================\n",
            "24 26 US carriers also suffered 4,275 wildlife strikes at foreign airports in this period, according to the Federal Aviation Administration (FAA) of the US Department of Transportation.\n",
            "================================================\n",
            "25 14 FAA estimates that the annual loss due to wildlife strikes is US$ 500 million.\n",
            "================================================\n",
            "26 20 Infosys Watch Tower captures images of birds flying over airfields and triggers notifications with differing levels of severity to authorities.\n",
            "================================================\n",
            "27 26 For instance, when birds are spotted in the landing or take off zone within a radius of 600 feet, Infosys Watch Tower raises a red flag.\n",
            "================================================\n",
            "28 21 It then triggers a booming sound to startle birds and divert their flying path to prevent them from colliding with aircraft.\n",
            "================================================\n",
            "29 24 The model is further optimized to work seamlessly in a large-scale deployment.\n",
            "\n",
            "The detection events are recorded and logged for further analysis and improvements.\n",
            "================================================\n",
            "30 26 The detection events are recorded and logged for further analysis and improvements.\n",
            "\n",
            "Unattended cabin baggage detection\n",
            "Infosys Watch Tower tracks baggage along with their respective owners.\n",
            "================================================\n",
            "31 34 It captures the owner and items of baggage in a single camera frame and assigns a unique tracking ID.\n",
            "\n",
            "This helps tag the baggage to the owner which is then tracked across multiple\n",
            "frames.\n",
            "================================================\n",
            "32 25 Thereafter, the system takes cognizance of any unattended baggage beyond a specified time limit or when the owner has moved out of a defined area.\n",
            "================================================\n",
            "33 29 The system instantly raises an incident and marks the unattended or abandoned luggage in the camera feed.\n",
            "\n",
            "The incident is logged for further analysis and improvement in the system.\n",
            "================================================\n",
            "34 28 The model is also optimized to manage aircraft inspection and other airport assets using drones or sonar over and above the multitude of cameras across the airport facility.\n",
            "================================================\n",
            "35 16 Onboarding drones in Infosys Watch Tower enhances airport surveillance and reduces the risk of security breaches.\n",
            "================================================\n",
            "36 25 The platform lends itself to several use cases:\n",
            "Perimeter monitoring\n",
            "Being a critical facet of airport security, a majority of airports have a perimeter fence.\n",
            "================================================\n",
            "37 25 Since maintaining and monitoring security fences is costly and tedious, Infosys Watch Tower uses drone footage to capture and provide live feeds from different angles.\n",
            "================================================\n",
            "38 16 It raises an alarm to notify authorities in the event of any suspicious activity or movement.\n",
            "================================================\n",
            "39 22 Construction monitoring\n",
            "Construction of high-rise buildings in close proximity to airports can be detrimental and perilous to aircraft movement and human safety.\n",
            "================================================\n",
            "40 18 It is imperative to check if workers adhere to safety\n",
            "measures, monitor construction debris, and manage the workforce.\n",
            "================================================\n",
            "41 26 Infosys Watch Tower uses smart drone solutions to detect incidents of violation of guidelines.\n",
            "\n",
            "Vegetation monitoring\n",
            "Airfield vegetation is a cause of concern for airport authorities.\n",
            "================================================\n",
            "42 25 Vegetation monitoring\n",
            "Airfield vegetation is a cause of concern for airport authorities.\n",
            "\n",
            "It is a natural habitat for birds and animals, which compromise aircraft safety.\n",
            "================================================\n",
            "43 23 It is a natural habitat for birds and animals, which compromise aircraft safety.\n",
            "\n",
            "Airport authorities hire maintenance staff to monitor and mow overgrowth.\n",
            "================================================\n",
            "44 23 Airport authorities hire maintenance staff to monitor and mow overgrowth.\n",
            "\n",
            "Infosys Watch Tower, a drone-based solution equipped with security features, automates vegetation monitoring.\n",
            "================================================\n",
            "45 29 The multi-plane architecture of Infosys Watch Tower differentiates resources and services deployed at separate locations:\n",
            "Sensor plane –comprises of installed sensors that continuously serve feeds, accessed through the network.\n",
            "================================================\n",
            "46 32 Feeds can be accessed with proper authentication and authorization.\n",
            "\n",
            "The platform connects to the secured domains exposed by these devices.\n",
            "\n",
            "The data from the sensor plane can be RTSP, HTTP or HTTPS.\n",
            "================================================\n",
            "47 29 The data from the sensor plane can be RTSP, HTTP or HTTPS.\n",
            "\n",
            "The Monitoring Plane can access these feeds directly or through a video management software (for example, Milestone).\n",
            "================================================\n",
            "48 29 The Monitoring Plane can access these feeds directly or through a video management software (for example, Milestone).\n",
            "\n",
            "Monitoring plane - consists of services and resources residing close to sensors.\n",
            "================================================\n",
            "49 31 Tenants who are registered with the platform can add edge clusters and configure them in the monitoring plans that have been created.\n",
            "\n",
            "This enables tenants to apply AI on existing infrastructure.\n",
            "================================================\n",
            "50 29 This enables tenants to apply AI on existing infrastructure.\n",
            "\n",
            "Control plane - controls the entire platform.\n",
            "\n",
            "It includes the user interface along with supporting micro services and data stores.\n",
            "================================================\n",
            "51 24 It includes the user interface along with supporting micro services and data stores.\n",
            "\n",
            "All data validations, authentications and authorizations are undertaken on this plane.\n",
            "================================================\n",
            "52 20 All data validations, authentications and authorizations are undertaken on this plane.\n",
            "\n",
            "Conclusion\n",
            "The aviation landscape is fraught with operational risks.\n",
            "================================================\n",
            "53 28 Conclusion\n",
            "The aviation landscape is fraught with operational risks.\n",
            "\n",
            "The Infosys Watch Tower platform can be easily integrated with different AI solutions and customized for the aviation industry.\n",
            "================================================\n",
            "54 14 It can reinforce surveillance by deploying monitoring techniques to identify threats and mitigate risks.\n",
            "================================================\n",
            "55 18 The platform analyzes and organizes inputs to enable informed data-driven decisions for ensuring safety and maintaining operational efficiency.\n",
            "================================================\n"
          ]
        }
      ]
    },
    {
      "cell_type": "code",
      "source": [
        "len(state_of_the_union.split())"
      ],
      "metadata": {
        "colab": {
          "base_uri": "https://localhost:8080/"
        },
        "id": "esnL36z-ps6o",
        "outputId": "b51f60af-ab34-4c4d-fd65-73ab812d9089"
      },
      "execution_count": 52,
      "outputs": [
        {
          "output_type": "execute_result",
          "data": {
            "text/plain": [
              "1116"
            ]
          },
          "metadata": {},
          "execution_count": 52
        }
      ]
    }
  ]
}