{
  "nbformat": 4,
  "nbformat_minor": 0,
  "metadata": {
    "colab": {
      "provenance": [],
      "toc_visible": true,
      "authorship_tag": "ABX9TyPJpXybjRojT2QW0cJ8sFyJ",
      "include_colab_link": true
    },
    "kernelspec": {
      "name": "python3",
      "display_name": "Python 3"
    },
    "language_info": {
      "name": "python"
    }
  },
  "cells": [
    {
      "cell_type": "markdown",
      "metadata": {
        "id": "view-in-github",
        "colab_type": "text"
      },
      "source": [
        "<a href=\"https://colab.research.google.com/github/sidharth-157/Colab/blob/main/Chapter1_final.ipynb\" target=\"_parent\"><img src=\"https://colab.research.google.com/assets/colab-badge.svg\" alt=\"Open In Colab\"/></a>"
      ]
    },
    {
      "cell_type": "markdown",
      "source": [
        "#Finding the solution of simple quation\n",
        "---\n",
        "\n",
        "\n",
        "$$ solving\\ equation:5{x}-1$$\n",
        "\n",
        "\n",
        "\n",
        "\n",
        "\n",
        "\n",
        "\n"
      ],
      "metadata": {
        "id": "bKH1KmQuYr0u"
      }
    },
    {
      "cell_type": "markdown",
      "source": [
        "## Training a simple model which is trying solve simple equation"
      ],
      "metadata": {
        "id": "M-A42hkCdvo4"
      }
    },
    {
      "cell_type": "code",
      "execution_count": null,
      "metadata": {
        "id": "t8VmLD-VYlkz"
      },
      "outputs": [],
      "source": [
        "import numpy as np\n",
        "import tensorflow as tf\n",
        "from tensorflow.keras import Sequential\n",
        "from tensorflow.keras.layers import Dense\n",
        "\n",
        "x = np.array([-1.0,0.0,1.0,2.0,3.0,4.0],dtype=float)\n",
        "\n",
        "y = 5*x-1\n",
        "\n",
        "layer0 = Dense(units=1,input_shape=[1])\n",
        "model = Sequential([layer0])\n",
        "model.compile(optimizer='sgd', loss=tf.keras.losses.MeanSquaredError())\n",
        "model.fit(x,y,epochs=500)"
      ]
    },
    {
      "cell_type": "markdown",
      "source": [
        "## equation function will give the actual answer"
      ],
      "metadata": {
        "id": "KMDu-Qq9d_vW"
      }
    },
    {
      "cell_type": "code",
      "source": [
        "def equation(x):\n",
        "  y= 5*x - 1\n",
        "  return y"
      ],
      "metadata": {
        "id": "rr_KdLW4c1sH"
      },
      "execution_count": 35,
      "outputs": []
    },
    {
      "cell_type": "code",
      "source": [
        "equation(30)"
      ],
      "metadata": {
        "colab": {
          "base_uri": "https://localhost:8080/"
        },
        "id": "W2Txl90Hc9zr",
        "outputId": "73522df5-9c09-45ab-cd04-e75e583f8090"
      },
      "execution_count": 36,
      "outputs": [
        {
          "output_type": "execute_result",
          "data": {
            "text/plain": [
              "149"
            ]
          },
          "metadata": {},
          "execution_count": 36
        }
      ]
    },
    {
      "cell_type": "markdown",
      "source": [
        "## Answer that model predicted\n"
      ],
      "metadata": {
        "id": "SaIZB0UkePea"
      }
    },
    {
      "cell_type": "code",
      "source": [
        "print(model.predict([30]))"
      ],
      "metadata": {
        "colab": {
          "base_uri": "https://localhost:8080/"
        },
        "id": "4oZcSRz-c6VO",
        "outputId": "9770e09c-bb82-4813-f0a2-225b0647c2b9"
      },
      "execution_count": 37,
      "outputs": [
        {
          "output_type": "stream",
          "name": "stderr",
          "text": [
            "WARNING:tensorflow:6 out of the last 7 calls to <function Model.make_predict_function.<locals>.predict_function at 0x7f5c181cfd00> triggered tf.function retracing. Tracing is expensive and the excessive number of tracings could be due to (1) creating @tf.function repeatedly in a loop, (2) passing tensors with different shapes, (3) passing Python objects instead of tensors. For (1), please define your @tf.function outside of the loop. For (2), @tf.function has reduce_retracing=True option that can avoid unnecessary retracing. For (3), please refer to https://www.tensorflow.org/guide/function#controlling_retracing and https://www.tensorflow.org/api_docs/python/tf/function for  more details.\n"
          ]
        },
        {
          "output_type": "stream",
          "name": "stdout",
          "text": [
            "1/1 [==============================] - 0s 78ms/step\n",
            "[[148.89029]]\n"
          ]
        }
      ]
    },
    {
      "cell_type": "code",
      "source": [
        "print(layer0.get_weights())"
      ],
      "metadata": {
        "colab": {
          "base_uri": "https://localhost:8080/"
        },
        "id": "NZQ_5k2hdLJu",
        "outputId": "561e66a5-802e-426f-a90e-77f8d32f85ca"
      },
      "execution_count": 38,
      "outputs": [
        {
          "output_type": "stream",
          "name": "stdout",
          "text": [
            "[array([[4.995922]], dtype=float32), array([-0.9873581], dtype=float32)]\n"
          ]
        }
      ]
    },
    {
      "cell_type": "markdown",
      "source": [
        "# Second example"
      ],
      "metadata": {
        "id": "O5wZUXdghom-"
      }
    },
    {
      "cell_type": "code",
      "source": [
        "import numpy as np\n",
        "import tensorflow as tf\n",
        "from tensorflow.keras import Sequential\n",
        "from tensorflow.keras.layers import Dense\n",
        "\n",
        "x = np.array([-1.0,0.0,1.0,2.0,3.0,4.0],dtype=float)\n",
        "\n",
        "y = 5*x + 7*x  -1\n",
        "\n",
        "layer1 = Dense(units=1,input_shape=[1])\n",
        "model_2 = Sequential([layer1])\n",
        "model_2.compile(optimizer='sgd', loss=tf.keras.losses.MeanSquaredError())\n",
        "model_2.fit(x,y,epochs=500)"
      ],
      "metadata": {
        "id": "KxQEDxOHdoFw"
      },
      "execution_count": null,
      "outputs": []
    },
    {
      "cell_type": "code",
      "source": [
        "def equation2(x):\n",
        "  y = 5*x + 7*x  -1\n",
        "  return y"
      ],
      "metadata": {
        "id": "AYBSPV6YfRWg"
      },
      "execution_count": 40,
      "outputs": []
    },
    {
      "cell_type": "code",
      "source": [
        "equation2(30)"
      ],
      "metadata": {
        "colab": {
          "base_uri": "https://localhost:8080/"
        },
        "id": "BgXQPuWafQl3",
        "outputId": "3f049f5f-f5ba-4729-ae18-8fe53e407552"
      },
      "execution_count": 41,
      "outputs": [
        {
          "output_type": "execute_result",
          "data": {
            "text/plain": [
              "359"
            ]
          },
          "metadata": {},
          "execution_count": 41
        }
      ]
    },
    {
      "cell_type": "code",
      "source": [
        "print(model_2.predict([30]))"
      ],
      "metadata": {
        "colab": {
          "base_uri": "https://localhost:8080/"
        },
        "id": "TxeqQeEffkR0",
        "outputId": "d5c82abf-89a2-473a-b945-61e3f3bf5a04"
      },
      "execution_count": 42,
      "outputs": [
        {
          "output_type": "stream",
          "name": "stdout",
          "text": [
            "1/1 [==============================] - 0s 150ms/step\n",
            "[[358.7836]]\n"
          ]
        }
      ]
    },
    {
      "cell_type": "code",
      "source": [
        "print(layer1.get_weights())"
      ],
      "metadata": {
        "colab": {
          "base_uri": "https://localhost:8080/"
        },
        "id": "Bhfsguoifv12",
        "outputId": "a2b800d6-22e9-4d71-9d4d-e14cb2d16225"
      },
      "execution_count": 43,
      "outputs": [
        {
          "output_type": "stream",
          "name": "stdout",
          "text": [
            "[array([[11.991955]], dtype=float32), array([-0.97505087], dtype=float32)]\n"
          ]
        }
      ]
    },
    {
      "cell_type": "markdown",
      "source": [
        "# Third example\n",
        "---\n",
        "\n",
        "$$ solving\\ equation:{y}=5{x_1}+9{x_2}-1$$"
      ],
      "metadata": {
        "id": "kjgA4U3KigUR"
      }
    },
    {
      "cell_type": "code",
      "source": [
        "import numpy as np\n",
        "import tensorflow as tf\n",
        "from tensorflow.keras import Sequential\n",
        "from tensorflow.keras.layers import Dense\n",
        "\n",
        "x1 = np.array([-1.0,0.0,1.0,2.0,3.0,4.0],dtype=float)\n",
        "\n",
        "x2 = 3*(x*x) - 23 \n",
        "\n",
        "#x3 = np.array([x1,x2])\n",
        "\n",
        "x3= np.column_stack((x1,x2))\n",
        "\n",
        "print(x3.shape)\n",
        "\n",
        "y = 5*x1 + 9*x2  -1\n",
        "\n",
        "layer2 = Dense(units=1,input_shape=[2])\n",
        "model_3 = Sequential([layer2])\n",
        "model_3.compile(optimizer='sgd', loss=tf.keras.losses.mean_absolute_percentage_error)\n",
        "\n",
        "model_3.summary()\n",
        "model_3.fit(x3,y,epochs=800)"
      ],
      "metadata": {
        "id": "RfR7_xaDilKA"
      },
      "execution_count": null,
      "outputs": []
    },
    {
      "cell_type": "code",
      "source": [
        "def equation3(x):\n",
        "  y = 5*x + 9*(3*(x*x) - 23 )  -1\n",
        "  return y"
      ],
      "metadata": {
        "id": "7ic0tpi8kKA6"
      },
      "execution_count": 70,
      "outputs": []
    },
    {
      "cell_type": "code",
      "source": [
        "equation3(30)"
      ],
      "metadata": {
        "colab": {
          "base_uri": "https://localhost:8080/"
        },
        "id": "F5kbfZzjkTIg",
        "outputId": "3fd859b1-f754-42b9-fd81-ec2a7ff3e64c"
      },
      "execution_count": 78,
      "outputs": [
        {
          "output_type": "execute_result",
          "data": {
            "text/plain": [
              "24242"
            ]
          },
          "metadata": {},
          "execution_count": 78
        }
      ]
    },
    {
      "cell_type": "code",
      "source": [
        "z=30\n",
        "3*(z*z) - 23 "
      ],
      "metadata": {
        "colab": {
          "base_uri": "https://localhost:8080/"
        },
        "id": "mUbGTiob3oQX",
        "outputId": "7958ac63-bf8e-4d7e-e0a2-0c5840da8f3e"
      },
      "execution_count": 75,
      "outputs": [
        {
          "output_type": "execute_result",
          "data": {
            "text/plain": [
              "2677"
            ]
          },
          "metadata": {},
          "execution_count": 75
        }
      ]
    },
    {
      "cell_type": "code",
      "source": [
        "print(model_3.predict([[30,2677]]))"
      ],
      "metadata": {
        "colab": {
          "base_uri": "https://localhost:8080/"
        },
        "id": "sCfFRYRZkcSI",
        "outputId": "d6c7dee3-fcd5-4fc5-c46f-5d1c9995ede0"
      },
      "execution_count": 90,
      "outputs": [
        {
          "output_type": "stream",
          "name": "stdout",
          "text": [
            "1/1 [==============================] - 0s 46ms/step\n",
            "[[24612.607]]\n"
          ]
        }
      ]
    },
    {
      "cell_type": "code",
      "source": [
        "print(layer2.get_weights())"
      ],
      "metadata": {
        "colab": {
          "base_uri": "https://localhost:8080/"
        },
        "id": "J8otRAKLkmeg",
        "outputId": "f4b38f4f-2be7-420a-964b-71b84ecb95fd"
      },
      "execution_count": 91,
      "outputs": [
        {
          "output_type": "stream",
          "name": "stdout",
          "text": [
            "[array([[4.204899],\n",
            "       [9.146565]], dtype=float32), array([1.1045057], dtype=float32)]\n"
          ]
        }
      ]
    },
    {
      "cell_type": "code",
      "source": [
        "x1 = np.array([-1.0,0.0,1.0,2.0,3.0,4.0],dtype=float)\n",
        "\n",
        "x2 = 3*(x*x) - 23 \n",
        "\n",
        "print(x2)"
      ],
      "metadata": {
        "id": "_FxsmTKjjbG5"
      },
      "execution_count": null,
      "outputs": []
    },
    {
      "cell_type": "code",
      "source": [
        "\n",
        "x3"
      ],
      "metadata": {
        "colab": {
          "base_uri": "https://localhost:8080/"
        },
        "id": "EUSiTNhqmagZ",
        "outputId": "6b5a75c2-5cde-4532-905a-13da51155379"
      },
      "execution_count": 61,
      "outputs": [
        {
          "output_type": "execute_result",
          "data": {
            "text/plain": [
              "array([[ -1., -20.],\n",
              "       [  0., -23.],\n",
              "       [  1., -20.],\n",
              "       [  2., -11.],\n",
              "       [  3.,   4.],\n",
              "       [  4.,  25.]])"
            ]
          },
          "metadata": {},
          "execution_count": 61
        }
      ]
    },
    {
      "cell_type": "code",
      "source": [
        "3*(x*x)"
      ],
      "metadata": {
        "id": "_dxO-1I1jf_V"
      },
      "execution_count": null,
      "outputs": []
    }
  ]
}